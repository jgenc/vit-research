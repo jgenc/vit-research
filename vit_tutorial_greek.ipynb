{
 "cells": [
  {
   "cell_type": "markdown",
   "metadata": {},
   "source": [
    "# Vision Transformer\n",
    "\n",
    "Η δημοσίευση του Vision Transformer βρίσκεται [εδώ](https://arxiv.org/abs/2010.11929). Σε αυτό το notebook θα χρησιμοποιήσουμε την υλοποίηση του [Brian Pulfer](https://www.brianpulfer.ch/blog/vit) και στο τέλος θα την συγκρίνουμε την υλοποίηση της [PyTorch](https://pytorch.org/vision/main/models/vision_transformer.html)."
   ]
  },
  {
   "cell_type": "markdown",
   "metadata": {},
   "source": [
    "![ViT Model](./resources/ViT_Steps.png)"
   ]
  },
  {
   "cell_type": "markdown",
   "metadata": {},
   "source": [
    "Τα βήματα που θα ακολουθήσουμε για να φτιάξουμε τον Vision Transformer είναι τα εξής:\n",
    "1. Μετατροπή των εικόνων σε patches\n",
    "2. Δημιουργία των token με χρήση Linear Embedding στα patches\n",
    "3. Δημιουργία του token κατηγοριοποίησης\n",
    "4. Πρόσθεση του positional embedding σε κάθε token\n",
    "5. Embedding Layer\n",
    "6. Κατηγοριοποίηση"
   ]
  },
  {
   "cell_type": "markdown",
   "metadata": {},
   "source": [
    "**TODO: Να τα φτιάξω για να δουλεύει σε απλή Python Version, τύπου 3.8-3.9 ή 3.10**\n",
    "\n",
    "Πριν προχωρήσουμε θα χρειαστεί να φτιάξουμε ένα virtual environment και\n",
    "να κατεβάσουμε όλες τις απαραίτηες βιβλιοθήκες."
   ]
  },
  {
   "cell_type": "code",
   "execution_count": null,
   "metadata": {},
   "outputs": [],
   "source": [
    "%pip install venv\n",
    "!python3 -m venv .venv\n",
    "%pip install -r requirements.txt "
   ]
  },
  {
   "cell_type": "code",
   "execution_count": 14,
   "metadata": {},
   "outputs": [],
   "source": [
    "import torch\n",
    "from torchvision.models import VisionTransformer\n",
    "from torchvision.transforms import ToTensor\n",
    "from torchvision.datasets.mnist import MNIST\n",
    "from torch.utils.data import DataLoader\n",
    "from matplotlib import pyplot as plt\n",
    "import numpy as np\n",
    "from tqdm.auto import tqdm, trange\n",
    "\n",
    "from utils.plotting import plot_results, show_metrics, save_metrics, plot_results\n",
    "from utils.train_loop import train_loop\n",
    "from utils.patchifying import show_patches"
   ]
  },
  {
   "cell_type": "markdown",
   "metadata": {},
   "source": [
    "## Βήμα 0: Σύνολο δεδομένων\n",
    "\n",
    "Θα χρησιμοποίησουμε το σύνολο δεδομένων **MNIST**, το οποίο έχει $28 \\times 28$ grayscale εικόνες. Περισσότερες πληροφορίες για το Dataset βρίσκονται [εδώ](https://en.wikipedia.org/wiki/MNIST_database).\n",
    "\n",
    "Τα αντικείμενα της κλάσης `torchvision.datasets.mnist.MNIST()` μας επιστρέφουν ένα tuple εικόνας και target `(img, target)`. Στην πρώτη θέση έχουμε μια [PIL εικόνα](https://python-pillow.org/) και στην δεύτερη το label της εικόνας. Οι εικόνες στην μορφή που βρίσκονται\n",
    "αυτή την στιγμή δεν μπορούν να χρησιμοποιηθούν, θα χρειαστούν τροποποίηση.\n",
    "\n",
    "Με την `torchvision.transforms.ToTensor()` μπορούμε να μετατρέψουμε τις \n",
    "εικόνες των συνόλων σε tensors."
   ]
  },
  {
   "cell_type": "code",
   "execution_count": 2,
   "metadata": {},
   "outputs": [
    {
     "name": "stdout",
     "output_type": "stream",
     "text": [
      "Train set size: 60000, Test set size: 10000\n"
     ]
    }
   ],
   "source": [
    "transform = ToTensor()\n",
    "\n",
    "train_set = MNIST(root=\"./data\", train=True, download=True, transform=transform)\n",
    "test_set = MNIST(root=\"./data\", train=False, download=True, transform=transform)\n",
    "\n",
    "print(f\"Train set size: {len(train_set)}, Test set size: {len(test_set)}\")"
   ]
  },
  {
   "cell_type": "markdown",
   "metadata": {},
   "source": [
    "Βλέπουμε ότι για το training split έχουμε $60.000$ εικόνες, ενώ για το test έχουμε $10.000$."
   ]
  },
  {
   "cell_type": "markdown",
   "metadata": {},
   "source": [
    "Πριν προχωρήσουμε στην κατασκευή του Vision Transformer είναι σημαντικό να φτιάξουμε έναν `DataLoader` για κάθε set. Είναι πολύ χρήσιμο, καθώς είναι iterator. Δεν χρειάζεται δηλαδή να φορτώσουμε *όλο* το σύνολο δεδομένων στην μνήμη. Φορτώνουμε μόνο όσα χρειάζομαστε στην επανάληψη που βρισκόμαστε, ανάλογα με το `batch_size`.\n",
    "\n",
    "Με την χρήση της `shuffle` παραμέτρου το dataset θα ανακατευτεί μετά από κάθε epoch."
   ]
  },
  {
   "cell_type": "code",
   "execution_count": 3,
   "metadata": {},
   "outputs": [],
   "source": [
    "BATCH_SIZE = 128\n",
    "train_loader = DataLoader(train_set, batch_size=BATCH_SIZE, shuffle=True)\n",
    "test_loader = DataLoader(test_set, batch_size=BATCH_SIZE, shuffle=False)"
   ]
  },
  {
   "cell_type": "markdown",
   "metadata": {},
   "source": [
    "Το παρακάτω cell μας δείχνει μια από τις εικόνες του train dataset. Εκτυπώνουμε μια εικόνα από το `train_set` και όχι από το `train_loader`, καθώς θα χρειαζόταν να κάνουμε την αντίστροφη διαδικασία που ακολουθήσαμε για να φτιάξουμε τους dataloaders.\n",
    "\n",
    "Για να δούμε κάποια άλλη εικόνα αρκεί να αλλάξουμε την τιμή του `index`."
   ]
  },
  {
   "cell_type": "code",
   "execution_count": 4,
   "metadata": {},
   "outputs": [
    {
     "data": {
      "text/plain": [
       "<matplotlib.image.AxesImage at 0x7f1d333a2c80>"
      ]
     },
     "execution_count": 4,
     "metadata": {},
     "output_type": "execute_result"
    },
    {
     "data": {
      "image/png": "[encoded data removed]",
      "text/plain": [
       "<Figure size 640x480 with 1 Axes>"
      ]
     },
     "metadata": {},
     "output_type": "display_data"
    }
   ],
   "source": [
    "index = 0                       # From 0 to 59.999\n",
    "image = train_set[index][0]\n",
    "image = image.transpose(0, 1).transpose(1, 2)\n",
    "plt.axis(\"off\")\n",
    "plt.imshow(image, cmap=\"gray\")"
   ]
  },
  {
   "cell_type": "markdown",
   "metadata": {},
   "source": [
    "## Βήμα 1: Δημιουργία των Patches\n",
    "\n",
    "Το σύνολο δεδομένων εκπαίδευσης έχει μέγεθος $(n, c, h, w)$, όπου $n$ είναι ο αριθμός δειγμάτων, $c$ ο αριθμός των καναλιών και $h, \\, w$ το ύψος και το πλάτος κάθε εικόνας.\n",
    "\n",
    "Για να φτιάξουμε τα patches της εικόνας θα χρειαστεί να επιλέξουμε έναν αριθμό $p$. To πλήθος των patches περιγράφεται από την σχέση $$m=\\frac{hw}{p^2}$$\n",
    "\n",
    "Τα σύνολο μας έχει μέγεθος $(60.000, 1, 28, 28)$. Θα επιλέξουμε $p=4$, άρα θα έχουμε $49$ patches. Κάθε patch θα είναι μεγέθους $p \\times p$, για εμάς $4 \\times 4$. Συνολικά, η εικόνα θα έχει $7 \\times 7$ patches, άρα το dataset θα έχει το εξής μέγεθος:\n",
    "$$\n",
    "(60.000, 7, 7, 4, 4)\n",
    "$$\n",
    "\n",
    "Για να προχωρήσουμε θα χρειαστεί να κάνουμε flatten αυτές τις καινούριες διαστάσεις. Θα γίνει δηλαδή $$(60.000, 49, 16)$$\n",
    "\n",
    "\n",
    "<img src=\"./resources/Patches.png\" alt=\"Patches\" width=\"500\"/>"
   ]
  },
  {
   "cell_type": "markdown",
   "metadata": {},
   "source": [
    "Με το παρακάτω κελί μπορούμε να δούμε σε τι κομμάτια θα σπάσει η εικόνα\n",
    "που διαλέξαμε από το training set πιο πάνω."
   ]
  },
  {
   "cell_type": "code",
   "execution_count": 6,
   "metadata": {},
   "outputs": [
    {
     "data": {
      "image/png": "[encoded data removed]",
      "text/plain": [
       "<Figure size 640x480 with 1 Axes>"
      ]
     },
     "metadata": {},
     "output_type": "display_data"
    }
   ],
   "source": [
    "show_patches(image)"
   ]
  },
  {
   "cell_type": "code",
   "execution_count": 5,
   "metadata": {},
   "outputs": [],
   "source": [
    "def patchify(images, n_patches):\n",
    "    n, c, h, w = images.shape\n",
    "    assert h == w, \"Patchify method is implemented for square images only\"\n",
    "\n",
    "    patches = torch.zeros(n, n_patches**2, h * w * c // n_patches**2)\n",
    "    patch_size = h // n_patches\n",
    "    patches = images.unfold(2, patch_size, patch_size).unfold(3, patch_size, patch_size)\n",
    "    patches = patches.flatten(2, 3).flatten(3, 4).flatten(1, 2)\n",
    "    return patches"
   ]
  },
  {
   "cell_type": "markdown",
   "metadata": {},
   "source": [
    "## Βήμα 2: Linear Embedding\n",
    "\n",
    "Τώρα θα χρειαστεί να μετατρέψουμε τα patches που φτιάξαμε σε tokens, όπως γίνεται και στον παραδοσιακό Transformer.\n",
    "\n",
    "Το μόνο που θα χρειαστεί να πειράξουμε είναι το `hidden_d`, το οποίο είναι Hyperparameter. Στο παράδειγμα μας θα χρησιμοποιήσουμε `hidden_d=8`. Το `input_d` είναι $p^2$, άρα στην περίπτωση μας είναι $16$. "
   ]
  },
  {
   "cell_type": "code",
   "execution_count": 7,
   "metadata": {},
   "outputs": [],
   "source": [
    "class MyViT(torch.nn.Module):\n",
    "    def __init__(self, chw=(1, 28, 28), n_patches=7):\n",
    "        super(MyViT, self).__init__()\n",
    "\n",
    "        self.chw = chw  # (C, H, W)\n",
    "        self.n_patches = n_patches\n",
    "\n",
    "        assert (\n",
    "            chw[1] % n_patches == 0\n",
    "        ), \"Input shape not entirely divisible by number of patches\"\n",
    "\n",
    "        assert (\n",
    "            chw[2] % n_patches == 0\n",
    "        ), \"Input shape not entirely divisible by number of patches\"\n",
    "\n",
    "        self.patch_size = (chw[1] / n_patches, chw[2] / n_patches)\n",
    "\n",
    "        # 1) Linear mapper\n",
    "        self.input_d = int(chw[0] * self.patch_size[0] * self.patch_size[1])\n",
    "        self.linear_mapper = torch.nn.Linear(self.input_d, self.hidden_d)\n",
    "\n",
    "    def forward(self, images):\n",
    "        patches = patchify(images, self.n_patches)\n",
    "        tokens = self.linear_mapper(patches)\n",
    "        return tokens"
   ]
  },
  {
   "cell_type": "markdown",
   "metadata": {},
   "source": [
    "## Βήμα 3: Classification token \\<cls\\>\n",
    "\n",
    "Είναι μια learnable παράμετρος του μοντέλου. Θα πρέπει να το προσθέσουμε \n",
    "στα tokens που φτιάξαμε στο προηγούμενο βήμα.\n",
    "\n",
    "Το μέγεθος του είναι `(1, hidden_d)`. Μαζί με αυτό, το μέγεθος των token θα είναι τώρα $(60.000, 50, 16)$"
   ]
  },
  {
   "cell_type": "markdown",
   "metadata": {},
   "source": [
    "Ενημερώνουμε την κλάση MyViT με το \\<cls\\> token. "
   ]
  },
  {
   "cell_type": "code",
   "execution_count": 8,
   "metadata": {},
   "outputs": [],
   "source": [
    "class MyViT(torch.nn.Module):\n",
    "    def __init__(self, chw=(1, 28, 28), n_patches=7):\n",
    "        super(MyViT, self).__init__()\n",
    "\n",
    "        self.chw = chw  # (C, H, W)\n",
    "        self.n_patches = n_patches\n",
    "\n",
    "        assert (\n",
    "            chw[1] % n_patches == 0\n",
    "        ), \"Input shape not entirely divisible by number of patches\"\n",
    "\n",
    "        assert (\n",
    "            chw[2] % n_patches == 0\n",
    "        ), \"Input shape not entirely divisible by number of patches\"\n",
    "\n",
    "        self.patch_size = (chw[1] / n_patches, chw[2] / n_patches)\n",
    "        # 1) Linear mapper\n",
    "        self.input_d = int(chw[0] * self.patch_size[0] * self.patch_size[1])\n",
    "        self.linear_mapper = torch.nn.Linear(self.input_d, self.hidden_d)\n",
    "\n",
    "        # 2) Learnable classifiation token\n",
    "        self.class_token = torch.nn.Parameter(torch.rand(1, self.hidden_d))\n",
    "\n",
    "    def forward(self, images):\n",
    "        patches = patchify(images, self.n_patches)\n",
    "        tokens = self.linear_mapper(patches)\n",
    "\n",
    "        # Adding classification token to the tokens\n",
    "        tokens = torch.stack(\n",
    "            [torch.vstack((self.class_token, tokens[i])) for i in range(len(tokens))]\n",
    "        )\n",
    "\n",
    "        return tokens"
   ]
  },
  {
   "cell_type": "markdown",
   "metadata": {},
   "source": [
    "## Βήμα 4: Positional Encoding\n",
    "\n",
    "Η αρχιτεκτονική του μοντέλου ως τώρα δεν αποθηκεύει πουθενά ως πληροφορία την θέση του κάθε patch στην εικόνα. Επειδή όμως έχει σημασία αν κάποιο patch είναι πάνω αριστερά, κάτω δεξιά ή οπουδήποτε αλλού στην εικόνα, θα χρειαστεί να φτιάξουμε τα positional embeddings.\n",
    "\n",
    "Υπολογίζονται με βάση τα μεγέθη `sequence_length` και `hidden_d`. Στο notebook έχουμε τις τιμές $50$ και $8$ αντίστοιχα. Το `sequence_length` μπορούμε να το σκεφτούμε ως το πλήθος των token για κάθε εικόνα."
   ]
  },
  {
   "cell_type": "code",
   "execution_count": 8,
   "metadata": {},
   "outputs": [],
   "source": [
    "def get_positional_embeddings(sequence_length, hidden_d):\n",
    "    result = torch.ones(sequence_length, hidden_d)\n",
    "\n",
    "    for i in range(sequence_length):\n",
    "        for j in range(hidden_d):\n",
    "            result[i][j] = (\n",
    "                np.sin(i / (10000 ** (j / hidden_d)))\n",
    "                if j % 2 == 0\n",
    "                else np.cos(i / (10000 ** ((j - 1) / hidden_d)))\n",
    "            )\n",
    "    return result"
   ]
  },
  {
   "cell_type": "markdown",
   "metadata": {},
   "source": [
    "Με τον παρακάτω κώδικα μπορούμε να δούμε τις τιμές των positional encodings,\n",
    "που υπολογίζονται από την `get_positional_embeddings()`\n",
    "\n",
    "Βλέπουμε πως έχουμε 8 στήλες, αφού δώσαμε για `hidden_d` την τιμή 8.\n",
    "Στις σειρές έχουμε 49 tokens + το 1 \\<cls\\> token, άρα 50."
   ]
  },
  {
   "cell_type": "code",
   "execution_count": 12,
   "metadata": {},
   "outputs": [
    {
     "data": {
      "image/png": "[encoded data removed]",
      "text/plain": [
       "<Figure size 640x480 with 1 Axes>"
      ]
     },
     "metadata": {},
     "output_type": "display_data"
    }
   ],
   "source": [
    "plt.imshow(get_positional_embeddings(49 + 1, 8), cmap=\"hot\", interpolation=\"nearest\")\n",
    "plt.show()"
   ]
  },
  {
   "cell_type": "markdown",
   "metadata": {},
   "source": [
    "**TODO: τι ακριβώς να γράψω εδώ;**\n",
    "\n",
    "Είναι ενδιαφέρον να δούμε τα positional embeddings για μεγαλύτερες τιμές,\n",
    "για να δούμε πιο ξεκάθαρα πως πράγματι είναι τιμές ημιτόνου και συνημιτόνου\n",
    "σε διάφορες ???"
   ]
  },
  {
   "cell_type": "code",
   "execution_count": 11,
   "metadata": {},
   "outputs": [
    {
     "data": {
      "image/png": "[encoded data removed]",
      "text/plain": [
       "<Figure size 640x480 with 1 Axes>"
      ]
     },
     "metadata": {},
     "output_type": "display_data"
    }
   ],
   "source": [
    "plt.imshow(get_positional_embeddings(100, 300), cmap=\"hot\", interpolation=\"nearest\")\n",
    "plt.show()"
   ]
  },
  {
   "cell_type": "markdown",
   "metadata": {},
   "source": [
    "Ενημερώνουμε την `MyViT` κλάση ως εξής:"
   ]
  },
  {
   "cell_type": "code",
   "execution_count": 11,
   "metadata": {},
   "outputs": [],
   "source": [
    "class MyViT(torch.nn.Module):\n",
    "    def __init__(self, chw=(1, 28, 28), n_patches=7):\n",
    "        super(MyViT, self).__init__()\n",
    "\n",
    "        self.chw = chw  # (C, H, W)\n",
    "        self.n_patches = n_patches\n",
    "\n",
    "        assert (\n",
    "            chw[1] % n_patches == 0\n",
    "        ), \"Input shape not entirely divisible by number of patches\"\n",
    "\n",
    "        assert (\n",
    "            chw[2] % n_patches == 0\n",
    "        ), \"Input shape not entirely divisible by number of patches\"\n",
    "\n",
    "        self.patch_size = (chw[1] / n_patches, chw[2] / n_patches)\n",
    "\n",
    "        # 1) Linear mapper\n",
    "        self.input_d = int(chw[0] * self.patch_size[0] * self.patch_size[1])\n",
    "        self.linear_mapper = torch.nn.Linear(self.input_d, self.hidden_d)\n",
    "\n",
    "        # 2) Learnable classifiation token\n",
    "        self.class_token = torch.nn.Parameter(torch.rand(1, self.hidden_d))\n",
    "\n",
    "        # 3) Positional embedding\n",
    "        self.pos_embed = torch.nn.Parameter(\n",
    "            torch.tensor(\n",
    "                get_positional_embeddings(self.n_patches**2 + 1, self.hidden_d)\n",
    "            )\n",
    "        )\n",
    "        self.pos_embed.requires_grad = False\n",
    "\n",
    "    def forward(self, images):\n",
    "        patches = patchify(images, self.n_patches)\n",
    "        tokens = self.linear_mapper(patches)\n",
    "\n",
    "        # Adding classification token to the tokens\n",
    "        tokens = torch.stack(\n",
    "            [torch.vstack((self.class_token, tokens[i])) for i in range(len(tokens))]\n",
    "        )\n",
    "\n",
    "        # Adding positional embedding\n",
    "        pos_embed = self.pos_embed.repeat(n, 1, 1)\n",
    "\n",
    "        out = tokens + pos_embed\n",
    "        return out"
   ]
  },
  {
   "cell_type": "markdown",
   "metadata": {},
   "source": [
    "## Βήμα 5: Encoder Module\n",
    "\n",
    "**TODO: Μήπως να το σπάσω ένα ένα, ή είναι πολύ πληροφορία;**\n",
    "\n",
    "Σε αυτό το βήμα θα εφαρμόσουμε τα εξής:\n",
    "- Multi-Head Self-Attention (MSA)\n",
    "- Multi-Layer Perceptron (MLP)\n",
    "\n",
    "και πριν κάθε από αυτά θα εφαρμόσουμε Layer Normalisation, όπως φαίνεται στο διάγραμμα της αρχιτεκτονικής του ViT."
   ]
  },
  {
   "cell_type": "markdown",
   "metadata": {},
   "source": [
    "**TODO: Να βάλω παραπάνω πληροφορίες για το MSA;**"
   ]
  },
  {
   "cell_type": "code",
   "execution_count": 12,
   "metadata": {},
   "outputs": [],
   "source": [
    "class MyMSA(torch.nn.Module):\n",
    "    def __init__(self, d, n_heads=2):\n",
    "        super(MyMSA, self).__init__()\n",
    "\n",
    "        self.d = d\n",
    "        self.n_heads = n_heads\n",
    "\n",
    "        assert d % n_heads == 0, f\"Can't divide dimension {d} into {n_heads} heads\"\n",
    "\n",
    "        d_head = int(d / n_heads)\n",
    "\n",
    "        self.q_mappings = torch.nn.ModuleList(\n",
    "            [torch.nn.Linear(d_head, d_head) for _ in range(self.n_heads)]\n",
    "        )\n",
    "        self.k_mappings = torch.nn.ModuleList(\n",
    "            [torch.nn.Linear(d_head, d_head) for _ in range(self.n_heads)]\n",
    "        )\n",
    "        self.v_mappings = torch.nn.ModuleList(\n",
    "            [torch.nn.Linear(d_head, d_head) for _ in range(self.n_heads)]\n",
    "        )\n",
    "\n",
    "        self.d_head = d_head\n",
    "        self.softmax = torch.nn.Softmax(dim=-1)\n",
    "\n",
    "    def forward(self, sequences):\n",
    "        # Sequences has shape (N, seq_length, token_dim)\n",
    "        # We go into shape    (N, seq_length, n_heads, token_dim / n_heads)\n",
    "        # And come back to    (N, seq_length, item_dim)  (through concatenation)\n",
    "\n",
    "        result = []\n",
    "\n",
    "        for sequence in sequences:\n",
    "            seq_result = []\n",
    "\n",
    "            for head in range(self.n_heads):\n",
    "                q_mapping = self.q_mappings[head]\n",
    "                k_mapping = self.k_mappings[head]\n",
    "                v_mapping = self.v_mappings[head]\n",
    "\n",
    "                seq = sequence[:, head * self.d_head : (head + 1) * self.d_head]\n",
    "\n",
    "                q, k, v = q_mapping(seq), k_mapping(seq), v_mapping(seq)\n",
    "\n",
    "                attention = self.softmax(q @ k.T / (self.d_head**0.5))\n",
    "\n",
    "                seq_result.append(attention @ v)\n",
    "\n",
    "            result.append(torch.hstack(seq_result))\n",
    "\n",
    "        return torch.cat([torch.unsqueeze(r, dim=0) for r in result])"
   ]
  },
  {
   "cell_type": "code",
   "execution_count": 13,
   "metadata": {},
   "outputs": [],
   "source": [
    "class MyViTBlock(torch.nn.Module):\n",
    "    def __init__(self, hidden_d, n_heads, mlp_ratio=4):\n",
    "        super(MyViTBlock, self).__init__()\n",
    "\n",
    "        self.hidden_d = hidden_d\n",
    "        self.n_heads = n_heads\n",
    "        self.norm1 = torch.nn.LayerNorm(hidden_d)\n",
    "\n",
    "        self.mhsa = MyMSA(hidden_d, n_heads)\n",
    "        self.norm2 = torch.nn.LayerNorm(hidden_d)\n",
    "\n",
    "        self.mlp = torch.nn.Sequential(\n",
    "            torch.nn.Linear(hidden_d, mlp_ratio * hidden_d),\n",
    "            torch.nn.GELU(),\n",
    "            torch.nn.Linear(mlp_ratio * hidden_d, hidden_d),\n",
    "        )\n",
    "\n",
    "    def forward(self, x):\n",
    "        out = x + self.mhsa(self.norm1(x))\n",
    "        out = out + self.mlp(self.norm2(out))\n",
    "        return out"
   ]
  },
  {
   "cell_type": "markdown",
   "metadata": {},
   "source": [
    "Και θα ενημερώσουμε την κλάση `MyViT` με το καινούργιο block"
   ]
  },
  {
   "cell_type": "code",
   "execution_count": 14,
   "metadata": {},
   "outputs": [],
   "source": [
    "class MyViT(torch.nn.Module):\n",
    "    def __init__(self, chw, n_patches=7, n_blocks=2, hidden_d=8, n_heads=2, out_d=10):\n",
    "        super(MyViT, self).__init__()\n",
    "\n",
    "        # Attributes\n",
    "        self.chw = chw  # ( C , H , W )\n",
    "        self.n_patches = n_patches\n",
    "        self.n_blocks = n_blocks\n",
    "        self.n_heads = n_heads\n",
    "        self.hidden_d = hidden_d\n",
    "\n",
    "        # Input and patches sizes\n",
    "        assert (\n",
    "            chw[1] % n_patches == 0\n",
    "        ), \"Input shape not entirely divisible by number of patches\"\n",
    "\n",
    "        assert (\n",
    "            chw[2] % n_patches == 0\n",
    "        ), \"Input shape not entirely divisible by number of patches\"\n",
    "\n",
    "        self.patch_size = (chw[1] / n_patches, chw[2] / n_patches)\n",
    "\n",
    "        # 1) Linear mapper\n",
    "        self.input_d = int(chw[0] * self.patch_size[0] * self.patch_size[1])\n",
    "        self.linear_mapper = torch.nn.Linear(self.input_d, self.hidden_d)\n",
    "\n",
    "        # 2) Learnable classification token\n",
    "        self.class_token = torch.nn.Parameter(torch.rand(1, self.hidden_d))\n",
    "\n",
    "        # 3) Positional embedding\n",
    "        self.register_buffer(\n",
    "            \"positional_embeddings\",\n",
    "            get_positional_embeddings(n_patches**2 + 1, hidden_d),\n",
    "            persistent=False,\n",
    "        )\n",
    "\n",
    "        # 4) Transformer encoder blocks\n",
    "        self.blocks = torch.nn.ModuleList(\n",
    "            [MyViTBlock(hidden_d, n_heads) for _ in range(n_blocks)]\n",
    "        )\n",
    "\n",
    "    def forward(self, images):\n",
    "        # Dividing images into patches\n",
    "\n",
    "        n, c, h, w = images.shape\n",
    "\n",
    "        patches = patchify(images, self.n_patches).to(self.positional_embeddings.device)\n",
    "\n",
    "        # Running linear layer tokenization\n",
    "        # Map the vector corresponding to each patch to the hidden size dimension\n",
    "        tokens = self.linear_mapper(patches)\n",
    "\n",
    "        # Adding classification token to the tokens\n",
    "        tokens = torch.cat((self.class_token.expand(n, 1, -1), tokens), dim=1)\n",
    "\n",
    "        # Adding positional embedding\n",
    "        out = tokens + self.positional_embeddings.repeat(n, 1, 1)\n",
    "\n",
    "        # Transformer Blocks\n",
    "        for block in self.blocks:\n",
    "            out = block(out)\n",
    "\n",
    "        return out"
   ]
  },
  {
   "cell_type": "markdown",
   "metadata": {},
   "source": [
    "## Βήμα 6: Classification\n",
    "\n",
    "Το ζητούμενο σε αυτό το notebook είναι το classification των χειρόγραφων αριθμών του MNIST dataset. \n",
    "\n",
    "Έχουμε 10 πιθανές κλάσεις, οπότε θα χρειαστούμε στην έξοδο του μοντέλου να προσθέσουμε έναν MLP\n",
    "που μετατρέπει την διάσταση της προηγούμενης εισόδου σε έξοδο με $10$ διαστάσεις"
   ]
  },
  {
   "cell_type": "code",
   "execution_count": 20,
   "metadata": {},
   "outputs": [],
   "source": [
    "class MyViT(torch.nn.Module):\n",
    "    def __init__(self, chw, n_patches=7, num_layers=2, hidden_dim=8, num_heads=2, num_classes=10):\n",
    "        super(MyViT, self).__init__()\n",
    "\n",
    "        # Attributes\n",
    "        self.chw = chw  # ( C , H , W )\n",
    "        self.n_patches = n_patches\n",
    "        self.n_blocks = num_layers\n",
    "        self.n_heads = num_heads\n",
    "        self.hidden_d = hidden_dim\n",
    "\n",
    "        # Input and patches sizes\n",
    "        assert (\n",
    "            chw[1] % n_patches == 0\n",
    "        ), \"Input shape not entirely divisible by number of patches\"\n",
    "\n",
    "        assert (\n",
    "            chw[2] % n_patches == 0\n",
    "        ), \"Input shape not entirely divisible by number of patches\"\n",
    "\n",
    "        self.patch_size = (chw[1] / n_patches, chw[2] / n_patches)\n",
    "\n",
    "        # 1) Linear mapper\n",
    "        self.input_d = int(chw[0] * self.patch_size[0] * self.patch_size[1])\n",
    "        self.linear_mapper = torch.nn.Linear(self.input_d, self.hidden_d)\n",
    "\n",
    "        # 2) Learnable classification token\n",
    "        self.class_token = torch.nn.Parameter(torch.rand(1, self.hidden_d))\n",
    "\n",
    "        # 3) Positional embedding\n",
    "        self.register_buffer(\n",
    "            \"positional_embeddings\",\n",
    "            get_positional_embeddings(n_patches**2 + 1, hidden_dim),\n",
    "            persistent=False,\n",
    "        )\n",
    "\n",
    "        # 4) Transformer encoder blocks\n",
    "        self.blocks = torch.nn.ModuleList(\n",
    "            [MyViTBlock(hidden_dim, num_heads) for _ in range(num_layers)]\n",
    "        )\n",
    "\n",
    "        # 5) Classification MLPk\n",
    "        self.mlp = torch.nn.Sequential(torch.nn.Linear(self.hidden_d, num_classes), torch.nn.Softmax(dim=-1))\n",
    "\n",
    "    def forward(self, images):\n",
    "        # Dividing images into patches\n",
    "        n, c, h, w = images.shape\n",
    "        patches = patchify(images, self.n_patches).to(self.positional_embeddings.device)\n",
    "\n",
    "        # Running linear layer tokenization\n",
    "        # Map the vector corresponding to each patch to the hidden size dimension\n",
    "        tokens = self.linear_mapper(patches)\n",
    "\n",
    "        # Adding classification token to the tokens\n",
    "        tokens = torch.cat((self.class_token.expand(n, 1, -1), tokens), dim=1)\n",
    "\n",
    "        # Adding positional embedding\n",
    "        out = tokens + self.positional_embeddings.repeat(n, 1, 1)\n",
    "\n",
    "        # Transformer Blocks\n",
    "        for block in self.blocks:\n",
    "            out = block(out)\n",
    "\n",
    "        # Getting the classification token only\n",
    "        out = out[:, 0]\n",
    "\n",
    "        return self.mlp(out)  # Map to output dimension, output category distribution"
   ]
  },
  {
   "cell_type": "markdown",
   "metadata": {},
   "source": [
    "## Εκπαίδευση του Vision Transformer στο MNIST\n",
    "\n",
    "Ανάλογα σε ποιο μηχάνημα βρισκόμαστε μπορεί να έχουμε GPU ή το MPS της Apple. Αν υπάρχει κάποιο από αυτά καλό θα ήταν να χρησιμοποιηθεί, καθώς θα επιταχύνει το training. Αν δεν υπάρχει τότε θα εκπαιδευτεί το μοντέλο σε CPU."
   ]
  },
  {
   "cell_type": "code",
   "execution_count": 5,
   "metadata": {},
   "outputs": [
    {
     "name": "stdout",
     "output_type": "stream",
     "text": [
      "Using device cuda\n"
     ]
    }
   ],
   "source": [
    "device = torch.device(\n",
    "    \"cuda\" if torch.cuda.is_available()\n",
    "    else \"mps\" if torch.backends.mps.is_available()\n",
    "    else \"cpu\"\n",
    ")\n",
    "print(f\"Using device {device}\")"
   ]
  },
  {
   "cell_type": "markdown",
   "metadata": {},
   "source": [
    "Φτιάχνουμε ένα instance του μοντέλου με τις παραμέτρους που δείξαμε\n",
    "και στα παραπάνω παραδείγματα.\n",
    "\n",
    "Μπορούμε να πειραματιστούμε με διάφορες τιμές στις εξής παραμέτρους:\n",
    "- `num_layers`, η οποία δηλώνει τον αριθμό των block με τα MSA και MLP. Στην αρχιτεκτονική δηλώνεται ως $L$\n",
    "- `hidden_dim`, η οποία δηλώνει την διάσταση των ενδιάμεσων layer\n",
    "- `n_umheads` είναι η παράμετρος που καθορίζει πόσοι παράλληλοι πολλαπλασιασμοί των Q, K, V πινάκων\n",
    "θα γίνονται σε κάθε MSA (Transformer) Block\n",
    "- `num_classes` είναι η διάσταση των αποτελεσμάτων. Πρακτικά, είναι ο αριθμός των classes που θέλουμε να προβλέψει\n",
    "στην έξοδο το μοντέλο. Εξαρτάται δηλαδή από το task και το dataset"
   ]
  },
  {
   "cell_type": "code",
   "execution_count": 26,
   "metadata": {},
   "outputs": [],
   "source": [
    "num_layers = 2\n",
    "hidden_dim = 8\n",
    "num_heads = 2\n",
    "num_classes = 10"
   ]
  },
  {
   "cell_type": "code",
   "execution_count": 27,
   "metadata": {},
   "outputs": [],
   "source": [
    "model = MyViT(\n",
    "    chw=(1, 28, 28),\n",
    "    n_patches=7,\n",
    "    num_layers=num_layers,\n",
    "    hidden_dim=hidden_dim,\n",
    "    num_heads=num_heads,\n",
    "    num_classes=num_classes, \n",
    ").to(device)"
   ]
  },
  {
   "cell_type": "markdown",
   "metadata": {},
   "source": [
    "Όπως και με κάθε εφαρμογή Deep Learning, θα χρειαστεί να ορίσουμε\n",
    "τον αριθμό των εποχών και τον ρυθμό εκμάθισης του μοντέλου"
   ]
  },
  {
   "cell_type": "code",
   "execution_count": 28,
   "metadata": {},
   "outputs": [],
   "source": [
    "N_EPOCHS = 5\n",
    "LR = 5e-3"
   ]
  },
  {
   "cell_type": "code",
   "execution_count": 29,
   "metadata": {},
   "outputs": [
    {
     "name": "stderr",
     "output_type": "stream",
     "text": [
      "Training:   0%|          | 0/5 [00:00<?, ?it/s]"
     ]
    },
    {
     "name": "stdout",
     "output_type": "stream",
     "text": [
      "Epoch 1/5 \n",
      "Train loss: 2.08, Train accuracy: 37.17%\n"
     ]
    },
    {
     "name": "stderr",
     "output_type": "stream",
     "text": [
      "Testing: 100%|██████████| 79/79 [00:02<00:00, 38.67it/s]\n",
      "Training:  20%|██        | 1/5 [00:47<03:08, 47.14s/it]"
     ]
    },
    {
     "name": "stdout",
     "output_type": "stream",
     "text": [
      "Test loss: 1.96\n",
      "Test accuracy: 49.55%\n"
     ]
    },
    {
     "name": "stderr",
     "output_type": "stream",
     "text": []
    },
    {
     "name": "stdout",
     "output_type": "stream",
     "text": [
      "Epoch 2/5 \n",
      "Train loss: 1.90, Train accuracy: 55.69%\n"
     ]
    },
    {
     "name": "stderr",
     "output_type": "stream",
     "text": [
      "Testing: 100%|██████████| 79/79 [00:02<00:00, 39.19it/s]\n",
      "Training:  40%|████      | 2/5 [01:33<02:20, 46.84s/it]"
     ]
    },
    {
     "name": "stdout",
     "output_type": "stream",
     "text": [
      "Test loss: 1.84\n",
      "Test accuracy: 61.94%\n"
     ]
    },
    {
     "name": "stderr",
     "output_type": "stream",
     "text": []
    },
    {
     "name": "stdout",
     "output_type": "stream",
     "text": [
      "Epoch 3/5 \n",
      "Train loss: 1.82, Train accuracy: 64.43%\n"
     ]
    },
    {
     "name": "stderr",
     "output_type": "stream",
     "text": [
      "Testing: 100%|██████████| 79/79 [00:02<00:00, 39.23it/s]\n",
      "Training:  60%|██████    | 3/5 [02:20<01:33, 46.72s/it]"
     ]
    },
    {
     "name": "stdout",
     "output_type": "stream",
     "text": [
      "Test loss: 1.77\n",
      "Test accuracy: 68.79%\n"
     ]
    },
    {
     "name": "stderr",
     "output_type": "stream",
     "text": []
    },
    {
     "name": "stdout",
     "output_type": "stream",
     "text": [
      "Epoch 4/5 \n",
      "Train loss: 1.79, Train accuracy: 66.49%\n"
     ]
    },
    {
     "name": "stderr",
     "output_type": "stream",
     "text": [
      "Testing: 100%|██████████| 79/79 [00:02<00:00, 39.07it/s]\n",
      "Training:  80%|████████  | 4/5 [03:07<00:46, 46.79s/it]"
     ]
    },
    {
     "name": "stdout",
     "output_type": "stream",
     "text": [
      "Test loss: 1.76\n",
      "Test accuracy: 70.39%\n"
     ]
    },
    {
     "name": "stderr",
     "output_type": "stream",
     "text": []
    },
    {
     "name": "stdout",
     "output_type": "stream",
     "text": [
      "Epoch 5/5 \n",
      "Train loss: 1.78, Train accuracy: 68.14%\n"
     ]
    },
    {
     "name": "stderr",
     "output_type": "stream",
     "text": [
      "Testing: 100%|██████████| 79/79 [00:02<00:00, 38.28it/s]\n",
      "Training: 100%|██████████| 5/5 [03:54<00:00, 46.82s/it]"
     ]
    },
    {
     "name": "stdout",
     "output_type": "stream",
     "text": [
      "Test loss: 1.75\n",
      "Test accuracy: 70.92%\n"
     ]
    },
    {
     "name": "stderr",
     "output_type": "stream",
     "text": [
      "\n"
     ]
    }
   ],
   "source": [
    "train_loss_metric = []\n",
    "train_accuracy_metric = []\n",
    "test_loss_metric = []\n",
    "test_accuracy_metric = []\n",
    "\n",
    "optimizer = torch.optim.Adam(model.parameters(), lr=LR)\n",
    "criterion = torch.nn.CrossEntropyLoss()\n",
    "\n",
    "for epoch in trange(N_EPOCHS, desc=\"Training\"):\n",
    "    correct, total = 0, 0\n",
    "    train_loss = 0.0\n",
    "    # Train\n",
    "    for batch in tqdm(\n",
    "        train_loader, desc=f\"Epoch {epoch + 1} in training\", leave=False, miniters=1\n",
    "    ):\n",
    "        x, y = batch\n",
    "        x, y = x.to(device), y.to(device)\n",
    "        y_hat = model(x)\n",
    "        loss = criterion(y_hat, y)\n",
    "\n",
    "        train_loss += loss.detach().cpu().item() / len(train_loader)\n",
    "        # print(f\"\\n\\nTrain Loss: {train_loss}\")\n",
    "\n",
    "        optimizer.zero_grad()\n",
    "        loss.backward()\n",
    "        optimizer.step()\n",
    "\n",
    "        correct += torch.sum(torch.argmax(y_hat, dim=1) == y).detach().cpu().item()\n",
    "        total += len(x)\n",
    "        # print(f\"[TRAIN] We have {correct} corrects and {total} total\")\n",
    "\n",
    "    print(\n",
    "        f\"Epoch {epoch + 1}/{N_EPOCHS} \\nTrain loss: {train_loss:.2f}, Train accuracy: {correct / total * 100:.2f}%\"\n",
    "    )\n",
    "\n",
    "    train_loss_metric.append(train_loss)\n",
    "    train_accuracy_metric.append(correct / total * 100)\n",
    "\n",
    "    # Test\n",
    "    with torch.no_grad():\n",
    "        correct_test, total_test = 0, 0\n",
    "        test_loss = 0.0\n",
    "        for batch in tqdm(test_loader, desc=\"Testing\"):\n",
    "            x, y = batch\n",
    "            x, y = x.to(device), y.to(device)\n",
    "            y_hat = model(x)\n",
    "            loss = criterion(y_hat, y)\n",
    "\n",
    "            test_loss += loss.detach().cpu().item() / len(test_loader)\n",
    "            correct_test += (\n",
    "                torch.sum(torch.argmax(y_hat, dim=1) == y).detach().cpu().item()\n",
    "            )\n",
    "            total_test += len(x)\n",
    "        print(f\"Test loss: {test_loss:.2f}\")\n",
    "        print(f\"Test accuracy: {correct_test / total_test * 100:.2f}%\")\n",
    "        # print(f\"[TEST] We have {correct_test} corrects and {total_test} total\")\n",
    "    test_loss_metric.append(test_loss)\n",
    "    test_accuracy_metric.append(correct_test / total_test * 100)\n",
    "\n",
    "save_metrics(\n",
    "    num_layers,\n",
    "    num_heads,\n",
    "    hidden_dim,\n",
    "    30,\n",
    "    N_EPOCHS,\n",
    "    LR,\n",
    "    train_accuracy_metric,\n",
    "    test_accuracy_metric,\n",
    "    train_loss_metric,\n",
    "    test_loss_metric\n",
    ")"
   ]
  },
  {
   "cell_type": "markdown",
   "metadata": {},
   "source": [
    "Για να δούμε την απόδοση του μοντέλου κατά την διάρκεια των epochs\n",
    "θα χρειαστεί να κοιτάξουμε το Accuracy και το Loss.\n",
    "\n",
    "Για να παράξει αποτελέσματα το παρακάτω κελί θα χρειαστεί να έχουμε εκπαιδεύσει\n",
    "το μοντέλο. Στο τέλος της εκπαίδευσης αποθηκεύονται τα αποτελέσματα\n",
    "στον φάκελο `metrics`. Μπορούμε να καλέσουμε την συνάρτηση που είναι σε\n",
    "σχόλιο με το σωστό όνομα του αρχείου και να δούμε αντίστοιχα αυτά τα\n",
    "αποτελέσματα."
   ]
  },
  {
   "cell_type": "code",
   "execution_count": 36,
   "metadata": {},
   "outputs": [
    {
     "name": "stderr",
     "output_type": "stream",
     "text": [
      "/home/cani/Workspace/vit-research/utils/plotting.py:66: UserWarning: FigureCanvasAgg is non-interactive, and thus cannot be shown\n",
      "  fig.show()\n"
     ]
    },
    {
     "data": {
      "image/png": "[encoded data removed]",
      "text/plain": [
       "<Figure size 1200x600 with 2 Axes>"
      ]
     },
     "metadata": {},
     "output_type": "display_data"
    }
   ],
   "source": [
    "plot_results(\n",
    "    num_layers,\n",
    "    num_heads,\n",
    "    hidden_dim,\n",
    "    N_EPOCHS,\n",
    "    LR,\n",
    "    test_accuracy_metric,\n",
    "    train_accuracy_metric,\n",
    "    test_loss_metric,\n",
    "    train_loss_metric,\n",
    ")\n",
    "\n",
    "# show_metrics(\"./metrics/23-12-07_21-15-28_metrics.npz\")"
   ]
  },
  {
   "cell_type": "markdown",
   "metadata": {},
   "source": [
    "**TODO: Είχα ξεχάσει ότι για κάποιον λόγο το μοντέλο αυτό πηγαίνει κυριολεκτικα\n",
    "χειρότερα στο training από το test. Να ξανακοιτάξω αν έχω κάνει εγώ κάποιο λάθος\n",
    "ή αν ο κύριος που το έφτιαξε έκανε εκείνος λάθος**\n",
    "\n",
    "Παρατηρούμε όμως ότι το μοντέλο που εκπαιδεύσαμε πηγαίνει καλύτερα στο\n",
    "test dataset και όχι στο train dataset. Αυτό οφείλεται στο γεγονός ότι η\n",
    "απλή υλοποίηση αυτή δεν εφαρμόζει κάποιες standard τεχνικές μηχανικής\n",
    "μάθησης, όπως το dropout.\n",
    "\n",
    "Παρακάτω θα κοιτάξουμε την υλοποίηση της PyTorch για τον Vision Transformer\n",
    "για να τον συγκρίνουμε με την απλή υλοποίηση του Brian Pulfer."
   ]
  },
  {
   "cell_type": "code",
   "execution_count": 6,
   "metadata": {},
   "outputs": [],
   "source": [
    "class VisionTransformerGrayscale(torch.nn.Module):\n",
    "    \"\"\"\n",
    "    Official PyTorch implementation of Vision Transformer with support for Grayscale (1-channel) images.\n",
    "    Default parameters are for the MNIST dataset.\n",
    "    \"\"\"\n",
    "\n",
    "    def __init__(\n",
    "        self,\n",
    "        image_size=28,\n",
    "        patch_size=7,\n",
    "        num_layers=6,\n",
    "        num_heads=6,\n",
    "        hidden_dim=768,\n",
    "        mlp_dim=3072,\n",
    "        num_classes=10,\n",
    "        dropout=0.1,\n",
    "    ):\n",
    "        super(VisionTransformerGrayscale, self).__init__()\n",
    "        # 1x1 conv to transform 1 channel to 3 channels\n",
    "        self.conv1 = torch.nn.Conv2d(1, 3, 1)\n",
    "        self.vit = VisionTransformer(\n",
    "            image_size=image_size,\n",
    "            patch_size=patch_size,\n",
    "            num_layers=num_layers,\n",
    "            num_heads=num_heads,\n",
    "            hidden_dim=hidden_dim,\n",
    "            mlp_dim=mlp_dim,\n",
    "            num_classes=num_classes,\n",
    "            dropout=dropout,\n",
    "        )\n",
    "\n",
    "    def forward(self, x):\n",
    "        x = self.conv1(x)\n",
    "        x = self.vit(x)\n",
    "        return x\n"
   ]
  },
  {
   "cell_type": "markdown",
   "metadata": {},
   "source": [
    "Παρατηρούμε αμέσως πως οι παράμετροι αυτού του μοντέλου έχουν τα εξής:\n",
    "- Πολύ μεγάλο `hidden_dim`\n",
    "- Παράμετρος που ελέγχει το `mlp_dim`, η οποία *δεν υπάρχει* στην προηγούμενη υλοποίηση\n",
    "- Dropout, το οποίο επίσης δεν υπήρχε στην προηγούμενη υλοποίηση"
   ]
  },
  {
   "cell_type": "markdown",
   "metadata": {},
   "source": [
    "Αν θέλουμε μπορούμε να αλλάξουμε τις παραμέτρους σε δικές μας τιμές ή\n",
    "να τις αφήσουμε όπως ήταν και στο προηγούμενο μοντέλο. Ενναλακτικά μπορούμε να μην\n",
    "τις πειράξουμε καθόλου και να το τρέξουμε με τις default παραμέτρους\n",
    "που έχει η PyTorch. "
   ]
  },
  {
   "cell_type": "code",
   "execution_count": 39,
   "metadata": {},
   "outputs": [],
   "source": [
    "num_layers = 2\n",
    "hidden_dim = 8\n",
    "num_heads = 2\n",
    "num_classes = 10\n",
    "\n",
    "mlp_dim = 30\n",
    "dropout = 0.1\n",
    "\n",
    "N_EPOCHS = 5\n",
    "LR = 5e-3"
   ]
  },
  {
   "cell_type": "code",
   "execution_count": 41,
   "metadata": {},
   "outputs": [],
   "source": [
    "model = VisionTransformerGrayscale(\n",
    "    num_layers=num_layers,\n",
    "    num_heads=num_heads,\n",
    "    hidden_dim=hidden_dim,\n",
    "    mlp_dim=mlp_dim,\n",
    "    num_classes=num_classes,\n",
    "    dropout=dropout,\n",
    ").to(device)\n",
    "\n",
    "# Default Parameters\n",
    "# model = VisionTransformerGrayscale().to(device)"
   ]
  },
  {
   "cell_type": "code",
   "execution_count": 47,
   "metadata": {},
   "outputs": [
    {
     "name": "stderr",
     "output_type": "stream",
     "text": [
      "Training:   0%|          | 0/5 [00:00<?, ?it/s]"
     ]
    },
    {
     "name": "stdout",
     "output_type": "stream",
     "text": [
      "Epoch 1/5 \n",
      "Train loss: 0.57, Train accuracy: 81.85%\n"
     ]
    },
    {
     "name": "stderr",
     "output_type": "stream",
     "text": [
      "Testing: 100%|██████████| 79/79 [00:00<00:00, 311.50it/s]\n",
      "Training:  20%|██        | 1/5 [00:02<00:09,  2.44s/it]"
     ]
    },
    {
     "name": "stdout",
     "output_type": "stream",
     "text": [
      "Test loss: 0.53\n",
      "Test accuracy: 82.97%\n"
     ]
    },
    {
     "name": "stderr",
     "output_type": "stream",
     "text": []
    },
    {
     "name": "stdout",
     "output_type": "stream",
     "text": [
      "Epoch 2/5 \n",
      "Train loss: 0.56, Train accuracy: 82.35%\n"
     ]
    },
    {
     "name": "stderr",
     "output_type": "stream",
     "text": [
      "Testing: 100%|██████████| 79/79 [00:00<00:00, 294.53it/s]\n",
      "Training:  40%|████      | 2/5 [00:04<00:07,  2.44s/it]"
     ]
    },
    {
     "name": "stdout",
     "output_type": "stream",
     "text": [
      "Test loss: 0.53\n",
      "Test accuracy: 83.40%\n"
     ]
    },
    {
     "name": "stderr",
     "output_type": "stream",
     "text": []
    },
    {
     "name": "stdout",
     "output_type": "stream",
     "text": [
      "Epoch 3/5 \n",
      "Train loss: 0.55, Train accuracy: 82.66%\n"
     ]
    },
    {
     "name": "stderr",
     "output_type": "stream",
     "text": [
      "Testing: 100%|██████████| 79/79 [00:00<00:00, 310.34it/s]\n",
      "Training:  60%|██████    | 3/5 [00:07<00:04,  2.42s/it]"
     ]
    },
    {
     "name": "stdout",
     "output_type": "stream",
     "text": [
      "Test loss: 0.53\n",
      "Test accuracy: 82.88%\n"
     ]
    },
    {
     "name": "stderr",
     "output_type": "stream",
     "text": []
    },
    {
     "name": "stdout",
     "output_type": "stream",
     "text": [
      "Epoch 4/5 \n",
      "Train loss: 0.54, Train accuracy: 82.92%\n"
     ]
    },
    {
     "name": "stderr",
     "output_type": "stream",
     "text": [
      "Testing: 100%|██████████| 79/79 [00:00<00:00, 309.59it/s]\n",
      "Training:  80%|████████  | 4/5 [00:09<00:02,  2.42s/it]"
     ]
    },
    {
     "name": "stdout",
     "output_type": "stream",
     "text": [
      "Test loss: 0.50\n",
      "Test accuracy: 84.43%\n"
     ]
    },
    {
     "name": "stderr",
     "output_type": "stream",
     "text": []
    },
    {
     "name": "stdout",
     "output_type": "stream",
     "text": [
      "Epoch 5/5 \n",
      "Train loss: 0.53, Train accuracy: 82.97%\n"
     ]
    },
    {
     "name": "stderr",
     "output_type": "stream",
     "text": [
      "Testing: 100%|██████████| 79/79 [00:00<00:00, 302.29it/s]\n",
      "Training: 100%|██████████| 5/5 [00:12<00:00,  2.43s/it]"
     ]
    },
    {
     "name": "stdout",
     "output_type": "stream",
     "text": [
      "Test loss: 0.49\n",
      "Test accuracy: 84.74%\n"
     ]
    },
    {
     "name": "stderr",
     "output_type": "stream",
     "text": [
      "\n"
     ]
    }
   ],
   "source": [
    "train_loss_metric = []\n",
    "train_accuracy_metric = []\n",
    "test_loss_metric = []\n",
    "test_accuracy_metric = []\n",
    "\n",
    "optimizer = torch.optim.Adam(model.parameters(), lr=LR)\n",
    "criterion = torch.nn.CrossEntropyLoss()\n",
    "\n",
    "for epoch in trange(N_EPOCHS, desc=\"Training\"):\n",
    "    correct, total = 0, 0\n",
    "    train_loss = 0.0\n",
    "    # Train\n",
    "    for batch in tqdm(\n",
    "        train_loader, desc=f\"Epoch {epoch + 1} in training\", leave=False, miniters=1\n",
    "    ):\n",
    "        x, y = batch\n",
    "        x, y = x.to(device), y.to(device)\n",
    "        y_hat = model(x)\n",
    "        loss = criterion(y_hat, y)\n",
    "\n",
    "        train_loss += loss.detach().cpu().item() / len(train_loader)\n",
    "        # print(f\"\\n\\nTrain Loss: {train_loss}\")\n",
    "\n",
    "        optimizer.zero_grad()\n",
    "        loss.backward()\n",
    "        optimizer.step()\n",
    "\n",
    "        correct += torch.sum(torch.argmax(y_hat, dim=1) == y).detach().cpu().item()\n",
    "        total += len(x)\n",
    "        # print(f\"[TRAIN] We have {correct} corrects and {total} total\")\n",
    "\n",
    "    print(\n",
    "        f\"Epoch {epoch + 1}/{N_EPOCHS} \\nTrain loss: {train_loss:.2f}, Train accuracy: {correct / total * 100:.2f}%\"\n",
    "    )\n",
    "\n",
    "    train_loss_metric.append(train_loss)\n",
    "    train_accuracy_metric.append(correct / total * 100)\n",
    "\n",
    "    # Test\n",
    "    with torch.no_grad():\n",
    "        correct_test, total_test = 0, 0\n",
    "        test_loss = 0.0\n",
    "        for batch in tqdm(test_loader, desc=\"Testing\"):\n",
    "            x, y = batch\n",
    "            x, y = x.to(device), y.to(device)\n",
    "            y_hat = model(x)\n",
    "            loss = criterion(y_hat, y)\n",
    "\n",
    "            test_loss += loss.detach().cpu().item() / len(test_loader)\n",
    "            correct_test += (\n",
    "                torch.sum(torch.argmax(y_hat, dim=1) == y).detach().cpu().item()\n",
    "            )\n",
    "            total_test += len(x)\n",
    "        print(f\"Test loss: {test_loss:.2f}\")\n",
    "        print(f\"Test accuracy: {correct_test / total_test * 100:.2f}%\")\n",
    "        # print(f\"[TEST] We have {correct_test} corrects and {total_test} total\")\n",
    "    test_loss_metric.append(test_loss)\n",
    "    test_accuracy_metric.append(correct_test / total_test * 100)\n",
    "\n",
    "save_metrics(\n",
    "    num_layers,\n",
    "    num_heads,\n",
    "    hidden_dim,\n",
    "    mlp_dim,\n",
    "    N_EPOCHS,\n",
    "    LR,\n",
    "    train_accuracy_metric,\n",
    "    test_accuracy_metric,\n",
    "    train_loss_metric,\n",
    "    test_loss_metric\n",
    ")"
   ]
  },
  {
   "cell_type": "code",
   "execution_count": 48,
   "metadata": {},
   "outputs": [
    {
     "data": {
      "image/png": "[encoded data removed]",
      "text/plain": [
       "<Figure size 1200x600 with 2 Axes>"
      ]
     },
     "metadata": {},
     "output_type": "display_data"
    }
   ],
   "source": [
    "plot_results(\n",
    "    num_layers,\n",
    "    num_heads,\n",
    "    hidden_dim,\n",
    "    N_EPOCHS,\n",
    "    LR,\n",
    "    test_accuracy_metric,\n",
    "    train_accuracy_metric,\n",
    "    test_loss_metric,\n",
    "    train_loss_metric,\n",
    ")"
   ]
  },
  {
   "cell_type": "markdown",
   "metadata": {},
   "source": [
    "Παρατηρούμε πως το μοντέλο δεν συμπεριφέρεται ομαλά. Επίσης, η υλοποίηση\n",
    "της PyTorch είναι αρκετά πιο γρήγορη από του Brian Pufler.\n",
    "\n",
    "Θα εκπαιδεύσουμε το μοντέλο για περισσότερες εποχές και θα τροποποιήσουμε\n",
    "τις τιμές των παραμέτρων."
   ]
  },
  {
   "cell_type": "code",
   "execution_count": 9,
   "metadata": {},
   "outputs": [],
   "source": [
    "# Parameters from the Paper\n",
    "num_layers = 6\n",
    "hidden_dim = 30\n",
    "num_heads = 6\n",
    "mlp_dim = 40\n",
    "dropout = 0.1\n",
    "num_classes = 10\n",
    "\n",
    "N_EPOCHS = 20\n",
    "LR = 5e-3\n",
    "\n",
    "model = VisionTransformerGrayscale(\n",
    "    num_layers=num_layers,\n",
    "    num_heads=num_heads,\n",
    "    hidden_dim=hidden_dim,\n",
    "    mlp_dim=mlp_dim,\n",
    "    num_classes=num_classes,\n",
    "    dropout=dropout,\n",
    ").to(device)"
   ]
  },
  {
   "cell_type": "code",
   "execution_count": 10,
   "metadata": {},
   "outputs": [
    {
     "name": "stderr",
     "output_type": "stream",
     "text": [
      "Training:   0%|          | 0/20 [00:00<?, ?it/s]"
     ]
    },
    {
     "name": "stdout",
     "output_type": "stream",
     "text": [
      "Epoch 1/20 \n",
      "Train loss: 1.50, Train accuracy: 44.21%\n"
     ]
    },
    {
     "name": "stderr",
     "output_type": "stream",
     "text": [
      "Testing: 100%|██████████| 79/79 [00:00<00:00, 245.35it/s]\n",
      "Training:   5%|▌         | 1/20 [00:03<01:10,  3.72s/it]"
     ]
    },
    {
     "name": "stdout",
     "output_type": "stream",
     "text": [
      "Test loss: 0.46\n",
      "Test accuracy: 85.75%\n"
     ]
    },
    {
     "name": "stderr",
     "output_type": "stream",
     "text": []
    },
    {
     "name": "stdout",
     "output_type": "stream",
     "text": [
      "Epoch 2/20 \n",
      "Train loss: 0.33, Train accuracy: 89.72%\n"
     ]
    },
    {
     "name": "stderr",
     "output_type": "stream",
     "text": [
      "Testing: 100%|██████████| 79/79 [00:00<00:00, 234.43it/s]\n",
      "Training:  10%|█         | 2/20 [00:07<01:06,  3.68s/it]"
     ]
    },
    {
     "name": "stdout",
     "output_type": "stream",
     "text": [
      "Test loss: 0.23\n",
      "Test accuracy: 92.34%\n"
     ]
    },
    {
     "name": "stderr",
     "output_type": "stream",
     "text": []
    },
    {
     "name": "stdout",
     "output_type": "stream",
     "text": [
      "Epoch 3/20 \n",
      "Train loss: 0.22, Train accuracy: 93.28%\n"
     ]
    },
    {
     "name": "stderr",
     "output_type": "stream",
     "text": [
      "Testing: 100%|██████████| 79/79 [00:00<00:00, 243.43it/s]\n",
      "Training:  15%|█▌        | 3/20 [00:11<01:02,  3.67s/it]"
     ]
    },
    {
     "name": "stdout",
     "output_type": "stream",
     "text": [
      "Test loss: 0.18\n",
      "Test accuracy: 94.43%\n"
     ]
    },
    {
     "name": "stderr",
     "output_type": "stream",
     "text": []
    },
    {
     "name": "stdout",
     "output_type": "stream",
     "text": [
      "Epoch 4/20 \n",
      "Train loss: 0.17, Train accuracy: 94.69%\n"
     ]
    },
    {
     "name": "stderr",
     "output_type": "stream",
     "text": [
      "Testing: 100%|██████████| 79/79 [00:00<00:00, 243.20it/s]\n",
      "Training:  20%|██        | 4/20 [00:14<00:58,  3.66s/it]"
     ]
    },
    {
     "name": "stdout",
     "output_type": "stream",
     "text": [
      "Test loss: 0.17\n",
      "Test accuracy: 94.74%\n"
     ]
    },
    {
     "name": "stderr",
     "output_type": "stream",
     "text": []
    },
    {
     "name": "stdout",
     "output_type": "stream",
     "text": [
      "Epoch 5/20 \n",
      "Train loss: 0.15, Train accuracy: 95.34%\n"
     ]
    },
    {
     "name": "stderr",
     "output_type": "stream",
     "text": [
      "Testing: 100%|██████████| 79/79 [00:00<00:00, 245.20it/s]\n",
      "Training:  25%|██▌       | 5/20 [00:18<00:54,  3.66s/it]"
     ]
    },
    {
     "name": "stdout",
     "output_type": "stream",
     "text": [
      "Test loss: 0.15\n",
      "Test accuracy: 95.25%\n"
     ]
    },
    {
     "name": "stderr",
     "output_type": "stream",
     "text": []
    },
    {
     "name": "stdout",
     "output_type": "stream",
     "text": [
      "Epoch 6/20 \n",
      "Train loss: 0.13, Train accuracy: 95.80%\n"
     ]
    },
    {
     "name": "stderr",
     "output_type": "stream",
     "text": [
      "Testing: 100%|██████████| 79/79 [00:00<00:00, 239.25it/s]\n",
      "Training:  30%|███       | 6/20 [00:21<00:51,  3.66s/it]"
     ]
    },
    {
     "name": "stdout",
     "output_type": "stream",
     "text": [
      "Test loss: 0.12\n",
      "Test accuracy: 96.24%\n"
     ]
    },
    {
     "name": "stderr",
     "output_type": "stream",
     "text": []
    },
    {
     "name": "stdout",
     "output_type": "stream",
     "text": [
      "Epoch 7/20 \n",
      "Train loss: 0.12, Train accuracy: 96.12%\n"
     ]
    },
    {
     "name": "stderr",
     "output_type": "stream",
     "text": [
      "Testing: 100%|██████████| 79/79 [00:00<00:00, 245.29it/s]\n",
      "Training:  35%|███▌      | 7/20 [00:25<00:47,  3.65s/it]"
     ]
    },
    {
     "name": "stdout",
     "output_type": "stream",
     "text": [
      "Test loss: 0.11\n",
      "Test accuracy: 96.51%\n"
     ]
    },
    {
     "name": "stderr",
     "output_type": "stream",
     "text": []
    },
    {
     "name": "stdout",
     "output_type": "stream",
     "text": [
      "Epoch 8/20 \n",
      "Train loss: 0.11, Train accuracy: 96.49%\n"
     ]
    },
    {
     "name": "stderr",
     "output_type": "stream",
     "text": [
      "Testing: 100%|██████████| 79/79 [00:00<00:00, 244.65it/s]\n",
      "Training:  40%|████      | 8/20 [00:29<00:43,  3.65s/it]"
     ]
    },
    {
     "name": "stdout",
     "output_type": "stream",
     "text": [
      "Test loss: 0.11\n",
      "Test accuracy: 96.30%\n"
     ]
    },
    {
     "name": "stderr",
     "output_type": "stream",
     "text": []
    },
    {
     "name": "stdout",
     "output_type": "stream",
     "text": [
      "Epoch 9/20 \n",
      "Train loss: 0.11, Train accuracy: 96.67%\n"
     ]
    },
    {
     "name": "stderr",
     "output_type": "stream",
     "text": [
      "Testing: 100%|██████████| 79/79 [00:00<00:00, 245.30it/s]\n",
      "Training:  45%|████▌     | 9/20 [00:32<00:40,  3.65s/it]"
     ]
    },
    {
     "name": "stdout",
     "output_type": "stream",
     "text": [
      "Test loss: 0.12\n",
      "Test accuracy: 96.03%\n"
     ]
    },
    {
     "name": "stderr",
     "output_type": "stream",
     "text": []
    },
    {
     "name": "stdout",
     "output_type": "stream",
     "text": [
      "Epoch 10/20 \n",
      "Train loss: 0.10, Train accuracy: 96.82%\n"
     ]
    },
    {
     "name": "stderr",
     "output_type": "stream",
     "text": [
      "Testing: 100%|██████████| 79/79 [00:00<00:00, 243.58it/s]\n",
      "Training:  50%|█████     | 10/20 [00:36<00:36,  3.65s/it]"
     ]
    },
    {
     "name": "stdout",
     "output_type": "stream",
     "text": [
      "Test loss: 0.11\n",
      "Test accuracy: 96.44%\n"
     ]
    },
    {
     "name": "stderr",
     "output_type": "stream",
     "text": []
    },
    {
     "name": "stdout",
     "output_type": "stream",
     "text": [
      "Epoch 11/20 \n",
      "Train loss: 0.10, Train accuracy: 97.00%\n"
     ]
    },
    {
     "name": "stderr",
     "output_type": "stream",
     "text": [
      "Testing: 100%|██████████| 79/79 [00:00<00:00, 244.85it/s]\n",
      "Training:  55%|█████▌    | 11/20 [00:40<00:32,  3.65s/it]"
     ]
    },
    {
     "name": "stdout",
     "output_type": "stream",
     "text": [
      "Test loss: 0.10\n",
      "Test accuracy: 96.83%\n"
     ]
    },
    {
     "name": "stderr",
     "output_type": "stream",
     "text": []
    },
    {
     "name": "stdout",
     "output_type": "stream",
     "text": [
      "Epoch 12/20 \n",
      "Train loss: 0.09, Train accuracy: 97.05%\n"
     ]
    },
    {
     "name": "stderr",
     "output_type": "stream",
     "text": [
      "Testing: 100%|██████████| 79/79 [00:00<00:00, 244.98it/s]\n",
      "Training:  60%|██████    | 12/20 [00:43<00:29,  3.65s/it]"
     ]
    },
    {
     "name": "stdout",
     "output_type": "stream",
     "text": [
      "Test loss: 0.10\n",
      "Test accuracy: 96.69%\n"
     ]
    },
    {
     "name": "stderr",
     "output_type": "stream",
     "text": []
    },
    {
     "name": "stdout",
     "output_type": "stream",
     "text": [
      "Epoch 13/20 \n",
      "Train loss: 0.09, Train accuracy: 97.18%\n"
     ]
    },
    {
     "name": "stderr",
     "output_type": "stream",
     "text": [
      "Testing: 100%|██████████| 79/79 [00:00<00:00, 245.86it/s]\n",
      "Training:  65%|██████▌   | 13/20 [00:47<00:25,  3.66s/it]"
     ]
    },
    {
     "name": "stdout",
     "output_type": "stream",
     "text": [
      "Test loss: 0.10\n",
      "Test accuracy: 96.80%\n"
     ]
    },
    {
     "name": "stderr",
     "output_type": "stream",
     "text": []
    },
    {
     "name": "stdout",
     "output_type": "stream",
     "text": [
      "Epoch 14/20 \n",
      "Train loss: 0.09, Train accuracy: 97.28%\n"
     ]
    },
    {
     "name": "stderr",
     "output_type": "stream",
     "text": [
      "Testing: 100%|██████████| 79/79 [00:00<00:00, 244.33it/s]\n",
      "Training:  70%|███████   | 14/20 [00:51<00:21,  3.66s/it]"
     ]
    },
    {
     "name": "stdout",
     "output_type": "stream",
     "text": [
      "Test loss: 0.10\n",
      "Test accuracy: 96.64%\n"
     ]
    },
    {
     "name": "stderr",
     "output_type": "stream",
     "text": []
    },
    {
     "name": "stdout",
     "output_type": "stream",
     "text": [
      "Epoch 15/20 \n",
      "Train loss: 0.08, Train accuracy: 97.31%\n"
     ]
    },
    {
     "name": "stderr",
     "output_type": "stream",
     "text": [
      "Testing: 100%|██████████| 79/79 [00:00<00:00, 246.12it/s]\n",
      "Training:  75%|███████▌  | 15/20 [00:54<00:18,  3.65s/it]"
     ]
    },
    {
     "name": "stdout",
     "output_type": "stream",
     "text": [
      "Test loss: 0.08\n",
      "Test accuracy: 97.45%\n"
     ]
    },
    {
     "name": "stderr",
     "output_type": "stream",
     "text": []
    },
    {
     "name": "stdout",
     "output_type": "stream",
     "text": [
      "Epoch 16/20 \n",
      "Train loss: 0.08, Train accuracy: 97.40%\n"
     ]
    },
    {
     "name": "stderr",
     "output_type": "stream",
     "text": [
      "Testing: 100%|██████████| 79/79 [00:00<00:00, 245.83it/s]\n",
      "Training:  80%|████████  | 16/20 [00:58<00:14,  3.65s/it]"
     ]
    },
    {
     "name": "stdout",
     "output_type": "stream",
     "text": [
      "Test loss: 0.08\n",
      "Test accuracy: 97.72%\n"
     ]
    },
    {
     "name": "stderr",
     "output_type": "stream",
     "text": []
    },
    {
     "name": "stdout",
     "output_type": "stream",
     "text": [
      "Epoch 17/20 \n",
      "Train loss: 0.07, Train accuracy: 97.57%\n"
     ]
    },
    {
     "name": "stderr",
     "output_type": "stream",
     "text": [
      "Testing: 100%|██████████| 79/79 [00:00<00:00, 245.87it/s]\n",
      "Training:  85%|████████▌ | 17/20 [01:02<00:10,  3.64s/it]"
     ]
    },
    {
     "name": "stdout",
     "output_type": "stream",
     "text": [
      "Test loss: 0.09\n",
      "Test accuracy: 97.30%\n"
     ]
    },
    {
     "name": "stderr",
     "output_type": "stream",
     "text": []
    },
    {
     "name": "stdout",
     "output_type": "stream",
     "text": [
      "Epoch 18/20 \n",
      "Train loss: 0.07, Train accuracy: 97.63%\n"
     ]
    },
    {
     "name": "stderr",
     "output_type": "stream",
     "text": [
      "Testing: 100%|██████████| 79/79 [00:00<00:00, 245.15it/s]\n",
      "Training:  90%|█████████ | 18/20 [01:05<00:07,  3.64s/it]"
     ]
    },
    {
     "name": "stdout",
     "output_type": "stream",
     "text": [
      "Test loss: 0.08\n",
      "Test accuracy: 97.52%\n"
     ]
    },
    {
     "name": "stderr",
     "output_type": "stream",
     "text": []
    },
    {
     "name": "stdout",
     "output_type": "stream",
     "text": [
      "Epoch 19/20 \n",
      "Train loss: 0.07, Train accuracy: 97.63%\n"
     ]
    },
    {
     "name": "stderr",
     "output_type": "stream",
     "text": [
      "Testing: 100%|██████████| 79/79 [00:00<00:00, 244.46it/s]\n",
      "Training:  95%|█████████▌| 19/20 [01:09<00:03,  3.65s/it]"
     ]
    },
    {
     "name": "stdout",
     "output_type": "stream",
     "text": [
      "Test loss: 0.08\n",
      "Test accuracy: 97.29%\n"
     ]
    },
    {
     "name": "stderr",
     "output_type": "stream",
     "text": []
    },
    {
     "name": "stdout",
     "output_type": "stream",
     "text": [
      "Epoch 20/20 \n",
      "Train loss: 0.07, Train accuracy: 97.83%\n"
     ]
    },
    {
     "name": "stderr",
     "output_type": "stream",
     "text": [
      "Testing: 100%|██████████| 79/79 [00:00<00:00, 244.56it/s]\n",
      "Training: 100%|██████████| 20/20 [01:13<00:00,  3.65s/it]"
     ]
    },
    {
     "name": "stdout",
     "output_type": "stream",
     "text": [
      "Test loss: 0.10\n",
      "Test accuracy: 96.96%\n"
     ]
    },
    {
     "name": "stderr",
     "output_type": "stream",
     "text": [
      "\n"
     ]
    }
   ],
   "source": [
    "metrics = train_loop(\n",
    "    model,\n",
    "    train_loader,\n",
    "    test_loader,\n",
    "    device,\n",
    "    num_layers,\n",
    "    num_heads,\n",
    "    hidden_dim,\n",
    "    mlp_dim,\n",
    "    N_EPOCHS,\n",
    "    LR,\n",
    ")\n",
    "\n",
    "train_loss_metric, train_accuracy_metric, test_loss_metric, test_accuracy_metric = metrics"
   ]
  },
  {
   "cell_type": "code",
   "execution_count": 11,
   "metadata": {},
   "outputs": [
    {
     "name": "stderr",
     "output_type": "stream",
     "text": [
      "/home/cani/Workspace/vit-research/utils/plotting.py:47: UserWarning: FigureCanvasAgg is non-interactive, and thus cannot be shown\n",
      "  fig.show()\n"
     ]
    },
    {
     "data": {
      "image/png": "[encoded data removed]",
      "text/plain": [
       "<Figure size 1200x600 with 2 Axes>"
      ]
     },
     "metadata": {},
     "output_type": "display_data"
    }
   ],
   "source": [
    "plot_results(\n",
    "    num_layers,\n",
    "    num_heads,\n",
    "    hidden_dim,\n",
    "    N_EPOCHS,\n",
    "    LR,\n",
    "    test_accuracy_metric,\n",
    "    train_accuracy_metric,\n",
    "    test_loss_metric,\n",
    "    train_loss_metric,\n",
    ")"
   ]
  },
  {
   "cell_type": "markdown",
   "metadata": {},
   "source": [
    "Βλέπουμε πως με τις καινούριες παραμέτρους έχουμε πολύ καλύτερη απόδοση\n",
    "στο accuracy και στο loss του μοντέλου μας."
   ]
  },
  {
   "cell_type": "markdown",
   "metadata": {},
   "source": [
    "Ας δοκιμάσουμε να δούμε και μια τυχαία εικόνα από το test dataset"
   ]
  },
  {
   "cell_type": "code",
   "execution_count": 28,
   "metadata": {},
   "outputs": [
    {
     "name": "stdout",
     "output_type": "stream",
     "text": [
      "Model predicted class 7\n"
     ]
    },
    {
     "data": {
      "image/png": "[encoded data removed]",
      "text/plain": [
       "<Figure size 640x480 with 1 Axes>"
      ]
     },
     "metadata": {},
     "output_type": "display_data"
    }
   ],
   "source": [
    "index = 60\n",
    "image, label = test_loader.dataset[index]\n",
    "\n",
    "plt.axis(\"off\")\n",
    "plt.imshow(image.squeeze(), cmap=\"gray\")\n",
    "\n",
    "prediction = model(image.unsqueeze(0).to(device))\n",
    "print(f\"Model predicted class {torch.argmax(prediction).item()}\")"
   ]
  }
 ],
 "metadata": {
  "kernelspec": {
   "display_name": "Python 3",
   "language": "python",
   "name": "python3"
  },
  "language_info": {
   "codemirror_mode": {
    "name": "ipython",
    "version": 3
   },
   "file_extension": ".py",
   "mimetype": "text/x-python",
   "name": "python",
   "nbconvert_exporter": "python",
   "pygments_lexer": "ipython3",
   "version": "3.10.12"
  }
 },
 "nbformat": 4,
 "nbformat_minor": 2
}
